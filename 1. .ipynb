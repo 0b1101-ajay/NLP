{
 "cells": [
  {
   "cell_type": "markdown",
   "id": "de6c8b38",
   "metadata": {},
   "source": [
    "### Basic terminologies"
   ]
  },
  {
   "cell_type": "markdown",
   "id": "16f6ca17",
   "metadata": {},
   "source": [
    "#### Corpus\n",
    "#### Documents\n",
    "#### Vocubulary\n",
    "#### Words"
   ]
  },
  {
   "cell_type": "markdown",
   "id": "14c6e501",
   "metadata": {},
   "source": [
    " ### NLP Pipeline"
   ]
  },
  {
   "cell_type": "markdown",
   "id": "0eae9933",
   "metadata": {},
   "source": [
    "- Dataset\n",
    "- Text preprocessing 1: Tokenization, Lowering the case of words\n",
    "- Text preprocessing 2: Stemming, Lemmatization, Remove stop words\n",
    "- Words ---> Vectors\n",
    "    - One hot encoding\n",
    "    - Bag of words\n",
    "    - TF-IDF\n",
    "    - Word2Vec"
   ]
  },
  {
   "cell_type": "code",
   "execution_count": null,
   "id": "277c10d4",
   "metadata": {},
   "outputs": [],
   "source": []
  }
 ],
 "metadata": {
  "kernelspec": {
   "display_name": "Python 3 (ipykernel)",
   "language": "python",
   "name": "python3"
  },
  "language_info": {
   "codemirror_mode": {
    "name": "ipython",
    "version": 3
   },
   "file_extension": ".py",
   "mimetype": "text/x-python",
   "name": "python",
   "nbconvert_exporter": "python",
   "pygments_lexer": "ipython3",
   "version": "3.9.12"
  }
 },
 "nbformat": 4,
 "nbformat_minor": 5
}
